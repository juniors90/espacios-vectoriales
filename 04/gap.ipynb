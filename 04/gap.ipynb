{
 "cells": [
  {
   "cell_type": "code",
   "execution_count": 1,
   "metadata": {
    "vscode": {
     "languageId": "gap"
    }
   },
   "outputs": [
    {
     "data": {
      "text/plain": [
       "[ [ 3, 1, 0 ], [ -1, 1, 0 ], [ -1, -1, 3 ] ]"
      ]
     },
     "execution_count": 1,
     "metadata": {
      "text/plain": ""
     },
     "output_type": "execute_result"
    }
   ],
   "source": [
    "M:=[[3, 1,-0], [ -1, 1, 0], [-1, -1, 3]];"
   ]
  },
  {
   "cell_type": "code",
   "execution_count": 5,
   "metadata": {
    "vscode": {
     "languageId": "gap"
    }
   },
   "outputs": [
    {
     "data": {
      "text/plain": [
       "[ [ 1, 1, 0 ], [ -1, -1, 0 ], [ -1, -1, 1 ] ]"
      ]
     },
     "execution_count": 5,
     "metadata": {
      "text/plain": ""
     },
     "output_type": "execute_result"
    }
   ],
   "source": [
    "E2:=M-2*IdentityMat(3);"
   ]
  },
  {
   "cell_type": "code",
   "execution_count": 6,
   "metadata": {
    "vscode": {
     "languageId": "gap"
    }
   },
   "outputs": [
    {
     "data": {
      "text/plain": [
       "[ [ 0, 0, 0 ], [ 0, 0, 0 ], [ -1, -1, 1 ] ]"
      ]
     },
     "execution_count": 6,
     "metadata": {
      "text/plain": ""
     },
     "output_type": "execute_result"
    }
   ],
   "source": [
    "E2*E2;"
   ]
  },
  {
   "cell_type": "code",
   "execution_count": 7,
   "metadata": {
    "vscode": {
     "languageId": "gap"
    }
   },
   "outputs": [
    {
     "data": {
      "text/plain": [
       "[ [ -1, -1, 0 ], [ 1, 0, 0 ], [ 0, -1, 1 ] ]"
      ]
     },
     "execution_count": 7,
     "metadata": {
      "text/plain": ""
     },
     "output_type": "execute_result"
    }
   ],
   "source": [
    "S:=[[-1, -1, 0], [1, 0, 0], [0, -1, 1]];"
   ]
  },
  {
   "cell_type": "code",
   "execution_count": 8,
   "metadata": {
    "vscode": {
     "languageId": "gap"
    }
   },
   "outputs": [
    {
     "data": {
      "text/plain": [
       "[ [ 0, 1, 0 ], [ -1, -1, 0 ], [ -1, -1, 1 ] ]"
      ]
     },
     "execution_count": 8,
     "metadata": {
      "text/plain": ""
     },
     "output_type": "execute_result"
    }
   ],
   "source": [
    "S*S;"
   ]
  },
  {
   "cell_type": "code",
   "execution_count": 9,
   "metadata": {
    "vscode": {
     "languageId": "gap"
    }
   },
   "outputs": [
    {
     "data": {
      "text/plain": [
       "[ [ 1, 0, 0 ], [ 0, 1, 0 ], [ 0, 0, 1 ] ]"
      ]
     },
     "execution_count": 9,
     "metadata": {
      "text/plain": ""
     },
     "output_type": "execute_result"
    }
   ],
   "source": [
    "S*S*S;"
   ]
  },
  {
   "cell_type": "code",
   "execution_count": 11,
   "metadata": {
    "vscode": {
     "languageId": "gap"
    }
   },
   "outputs": [
    {
     "data": {
      "text/plain": [
       "true"
      ]
     },
     "execution_count": 11,
     "metadata": {
      "text/plain": ""
     },
     "output_type": "execute_result"
    }
   ],
   "source": [
    "S*S*S*S=S;"
   ]
  },
  {
   "cell_type": "code",
   "execution_count": null,
   "metadata": {
    "vscode": {
     "languageId": "gap"
    }
   },
   "outputs": [],
   "source": []
  }
 ],
 "metadata": {
  "kernelspec": {
   "display_name": "GAP 4",
   "language": "gap",
   "name": "gap-4"
  },
  "language_info": {
   "codemirror_mode": "gap",
   "file_extension": ".g",
   "mimetype": "text/x-gap",
   "name": "GAP 4",
   "nbconvert_exporter": "",
   "pygments_lexer": "gap",
   "version": "4.12.0"
  },
  "orig_nbformat": 4
 },
 "nbformat": 4,
 "nbformat_minor": 2
}
